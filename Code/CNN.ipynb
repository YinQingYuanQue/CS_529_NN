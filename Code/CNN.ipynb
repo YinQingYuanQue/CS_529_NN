{
 "cells": [
  {
   "cell_type": "markdown",
   "metadata": {},
   "source": [
    "Import Packages"
   ]
  },
  {
   "cell_type": "code",
   "execution_count": 1,
   "metadata": {
    "tags": [
     "Keep"
    ]
   },
   "outputs": [],
   "source": [
    "import os\n",
    "import torch\n",
    "import torchvision\n",
    "import tarfile\n",
    "from torchvision.datasets.utils import download_url\n",
    "from torch.utils.data import random_split\n",
    "\n",
    "import numpy as np\n",
    "import pandas as pd"
   ]
  },
  {
   "cell_type": "markdown",
   "metadata": {},
   "source": [
    "File Path"
   ]
  },
  {
   "cell_type": "code",
   "execution_count": 2,
   "metadata": {
    "tags": [
     "Keep"
    ]
   },
   "outputs": [],
   "source": [
    "Audio_train = 'data/npy/Apr9/train_mfcc_fold8_50_delta_delta.npy'\n",
    "Audio_val = 'data/npy/Apr9/val_mfcc_fold8_50_delta_delta.npy'\n",
    "Audio_test = 'data/npy/Apr9/test_mfcc50_delta_delta.npy'\n"
   ]
  },
  {
   "cell_type": "markdown",
   "metadata": {},
   "source": [
    "Quote: https://colab.research.google.com/drive/134NRf4PAR1CuQejf6q3DTDZNaFklR8NY?usp=sharing"
   ]
  },
  {
   "cell_type": "code",
   "execution_count": 3,
   "metadata": {
    "tags": [
     "Keep"
    ]
   },
   "outputs": [],
   "source": [
    "class MLP(nn.Module):\n",
    "    def __init__(self, input_size, hidden_size, output_size, dropout_rate=0.2):\n",
    "        super(MLP, self).__init__()\n",
    "        self.fc1 = nn.Linear(input_size, hidden_size)\n",
    "        self.fc2 = nn.Linear(hidden_size, output_size)\n",
    "        self.dropout = nn.Dropout(dropout_rate)\n",
    "        self.relu = nn.ReLU()\n",
    "        self.cost = nn.CrossEntropyLoss()\n",
    "\n",
    "    def forward(self, x):\n",
    "        x = self.relu(self.fc1(x))\n",
    "        x = self.dropout(x)\n",
    "        x = self.fc2(x)\n",
    "        return x"
   ]
  },
  {
   "cell_type": "markdown",
   "metadata": {},
   "source": [
    "<b>Data Preprocessing <br></b>\n",
    "Z-Normalization"
   ]
  },
  {
   "cell_type": "code",
   "execution_count": 4,
   "metadata": {
    "tags": [
     "Keep"
    ]
   },
   "outputs": [
    {
     "name": "stdout",
     "output_type": "stream",
     "text": [
      "(800, 300) (800, 10) (100, 300) (100, 10)\n"
     ]
    },
    {
     "data": {
      "text/plain": [
       "array([[-0.70532743,  0.50288148, -0.15561555, ...,  0.71970385,\n",
       "         0.24446883,  0.03173463],\n",
       "       [-0.9106413 ,  1.15877521,  0.53727727, ...,  1.76773419,\n",
       "         1.48372101,  1.84433382],\n",
       "       [-1.45079868,  0.20518245,  1.25889523, ..., -0.19996044,\n",
       "        -0.65831403, -0.989708  ],\n",
       "       ...,\n",
       "       [ 0.79297733, -0.72589192, -0.84976611, ..., -0.80418456,\n",
       "        -0.78035322, -0.7266562 ],\n",
       "       [ 0.58603427, -0.23799363, -0.24808601, ..., -0.377274  ,\n",
       "        -0.72369873, -0.44429014],\n",
       "       [-0.60684619, -0.42799432, -0.15083106, ..., -0.54413445,\n",
       "        -0.3896985 , -0.76947425]])"
      ]
     },
     "execution_count": 4,
     "metadata": {},
     "output_type": "execute_result"
    }
   ],
   "source": [
    "################# set to your own path ##############\n",
    "Features_Labels = np.load(Audio_train)\n",
    "test_Features = np.load(Audio_test)\n",
    "Val_Features_Labels = np.load(Audio_val)\n",
    "################# set to your own path ##############\n",
    "\n",
    "\n",
    "no_instances = Features_Labels.shape[0]\n",
    "no_classes = 10\n",
    "no_features = Features_Labels.shape[1] - no_classes\n",
    "Features = Features_Labels[:,0:no_features]\n",
    "Labels_array = Features_Labels[:,no_features:Features_Labels.shape[1]]\n",
    "Labels = []\n",
    "for i in Labels_array:\n",
    "    Labels.append(np.where(i == max(i))[0][0])\n",
    "\n",
    "Val_Features = Val_Features_Labels[:,0:no_features]\n",
    "Val_Labels_array = Val_Features_Labels[:,no_features:Features_Labels.shape[1]]\n",
    "Val_Labels = []\n",
    "for i in Val_Labels_array:\n",
    "    Val_Labels.append(np.where(i == max(i))[0][0])\n",
    "print (Features.shape, Labels_array.shape, Val_Features.shape, Val_Labels_array.shape)#, test_Features.shape)\n",
    "\n",
    "\n",
    "\n",
    "############### Normalization ###################\n",
    "mean = np.mean(Features, axis=0, keepdims=True)\n",
    "std = np.std(Features, axis=0, ddof=1, keepdims=True)\n",
    "\n",
    "# Z-normalize each row\n",
    "Features_normalized = (Features - mean) / std\n",
    "\n",
    "# mean = np.mean(test_Features, axis=1, keepdims=True)\n",
    "# std = np.std(test_Features, axis=1, ddof=1, keepdims=True)\n",
    "\n",
    "# Z-normalize each row\n",
    "test_Features_norm = (test_Features - mean) / std\n",
    "test_Features_norm\n",
    "\n",
    "Val_Features_norm = (Val_Features - mean) / std\n",
    "Val_Features_norm\n",
    "############### Normalization ####################"
   ]
  },
  {
   "cell_type": "markdown",
   "metadata": {},
   "source": [
    "Build the MLP"
   ]
  },
  {
   "cell_type": "code",
   "execution_count": 19,
   "metadata": {
    "tags": [
     "keep"
    ]
   },
   "outputs": [
    {
     "name": "stdout",
     "output_type": "stream",
     "text": [
      "MLP(\n",
      "  (fc1): Linear(in_features=300, out_features=64, bias=True)\n",
      "  (fc2): Linear(in_features=64, out_features=10, bias=True)\n",
      "  (dropout): Dropout(p=0.2, inplace=False)\n",
      "  (relu): ReLU()\n",
      "  (cost): CrossEntropyLoss()\n",
      ")\n"
     ]
    }
   ],
   "source": [
    "#scaler = StandardScaler() # not necessary if you do normalization before\n",
    "\n",
    "train_dataset = TensorDataset(torch.tensor(Features_normalized, dtype=torch.float32), torch.tensor(Labels, dtype=torch.long))\n",
    "val_dataset = TensorDataset(torch.tensor(Val_Features_norm, dtype=torch.float32), torch.tensor(Val_Labels, dtype=torch.long))\n",
    "\n",
    "batch_size = 40\n",
    "train_loader = DataLoader(train_dataset, batch_size = batch_size, shuffle = True)\n",
    "val_loader = DataLoader(val_dataset, batch_size = batch_size)\n",
    "\n",
    "# input layer\n",
    "# number of features\n",
    "input_size = Features_normalized.shape[1]\n",
    "# number of hidden layer's nodes\n",
    "hidden_size = 64\n",
    "output_size = Labels_array.shape[1]\n",
    "\n",
    "model = MLP(input_size, hidden_size, output_size)\n",
    "print (model)\n",
    "\n",
    "optimizer = optim.Adam(model.parameters(), lr = 0.0001, weight_decay = 0.001)\n"
   ]
  },
  {
   "cell_type": "markdown",
   "metadata": {},
   "source": [
    "Train the MLP"
   ]
  },
  {
   "cell_type": "code",
   "execution_count": 20,
   "metadata": {
    "tags": [
     "Keep"
    ]
   },
   "outputs": [
    {
     "name": "stderr",
     "output_type": "stream",
     "text": [
      "100%|██████████| 1000/1000 [00:23<00:00, 42.91it/s]\n"
     ]
    },
    {
     "data": {
      "text/plain": [
       "<matplotlib.legend.Legend at 0x7420d0bc05e0>"
      ]
     },
     "execution_count": 20,
     "metadata": {},
     "output_type": "execute_result"
    },
    {
     "data": {
      "image/png": "[encoded data removed]",
      "text/plain": [
       "<Figure size 640x480 with 1 Axes>"
      ]
     },
     "metadata": {},
     "output_type": "display_data"
    }
   ],
   "source": [
    "Epochs = 1000\n",
    "train_acc = []\n",
    "val_acc = []\n",
    "for ep in tqdm(range(Epochs)):\n",
    "    model.train()\n",
    "    train_loss = 0.0\n",
    "    correct_train = 0\n",
    "    total_train = 0\n",
    "    for inputs, targets in train_loader:\n",
    "        # remove the gradient from the preious batch to remove bias\n",
    "        optimizer.zero_grad()\n",
    "        outputs = model(inputs)\n",
    "        loss = model.cost(outputs,targets)\n",
    "        loss.backward()\n",
    "        optimizer.step()\n",
    "        train_loss += loss.item()\n",
    "        _, predicted = torch.max(outputs, 1)\n",
    "        total_train += targets.size(0)\n",
    "        correct_train += (predicted == targets).sum().item()\n",
    "\n",
    "    train_acc.append(correct_train/total_train)\n",
    "    #print (f\"Epoch{ep+1}: Train loss: {train_loss/len(train_loader):.4f}, Train Acc: {train_acc: .2f}\")\n",
    "    \n",
    "    model.eval()\n",
    "    val_loss = 0.0\n",
    "    correct_val = 0\n",
    "    total_val = 0\n",
    "    with torch.no_grad():\n",
    "        for inputs, targets in val_loader:\n",
    "            outputs = model(inputs)\n",
    "            loss = model.cost(outputs, targets)\n",
    "            val_loss += loss.item()\n",
    "            _,predicted = torch.max(outputs, 1)\n",
    "            total_val += targets.size(0)\n",
    "            correct_val += (predicted == targets).sum().item()\n",
    "\n",
    "    val_acc.append(correct_val/total_val)\n",
    "    #print (f\"Epoch{ep+1}: Val loss: {val_loss/len(val_loader):.4f}, Val Acc: {val_acc: .2f}\")\n",
    "\n",
    "train_acc = np.array(train_acc)\n",
    "val_acc = np.array(val_acc)\n",
    "plt.plot(range(Epochs), train_acc, 'g', label = 'train_acc')\n",
    "plt.plot(range(Epochs), val_acc, 'b', label = 'val_acc')\n",
    "plt.legend()"
   ]
  },
  {
   "cell_type": "markdown",
   "metadata": {},
   "source": [
    "Get the Prediction"
   ]
  },
  {
   "cell_type": "code",
   "execution_count": 21,
   "metadata": {
    "tags": [
     "Keep"
    ]
   },
   "outputs": [
    {
     "name": "stderr",
     "output_type": "stream",
     "text": [
      "100%|██████████| 100/100 [00:00<00:00, 9945.00it/s]\n"
     ]
    },
    {
     "data": {
      "text/html": [
       "<div>\n",
       "<style scoped>\n",
       "    .dataframe tbody tr th:only-of-type {\n",
       "        vertical-align: middle;\n",
       "    }\n",
       "\n",
       "    .dataframe tbody tr th {\n",
       "        vertical-align: top;\n",
       "    }\n",
       "\n",
       "    .dataframe thead th {\n",
       "        text-align: right;\n",
       "    }\n",
       "</style>\n",
       "<table border=\"1\" class=\"dataframe\">\n",
       "  <thead>\n",
       "    <tr style=\"text-align: right;\">\n",
       "      <th></th>\n",
       "      <th>0</th>\n",
       "      <th>class</th>\n",
       "    </tr>\n",
       "  </thead>\n",
       "  <tbody>\n",
       "    <tr>\n",
       "      <th>0</th>\n",
       "      <td>test.00596.au</td>\n",
       "      <td>hiphop</td>\n",
       "    </tr>\n",
       "    <tr>\n",
       "      <th>1</th>\n",
       "      <td>test.02436.au</td>\n",
       "      <td>reggae</td>\n",
       "    </tr>\n",
       "    <tr>\n",
       "      <th>2</th>\n",
       "      <td>test.02930.au</td>\n",
       "      <td>blues</td>\n",
       "    </tr>\n",
       "    <tr>\n",
       "      <th>3</th>\n",
       "      <td>test.03364.au</td>\n",
       "      <td>country</td>\n",
       "    </tr>\n",
       "    <tr>\n",
       "      <th>4</th>\n",
       "      <td>test.03550.au</td>\n",
       "      <td>country</td>\n",
       "    </tr>\n",
       "    <tr>\n",
       "      <th>...</th>\n",
       "      <td>...</td>\n",
       "      <td>...</td>\n",
       "    </tr>\n",
       "    <tr>\n",
       "      <th>95</th>\n",
       "      <td>test.95763.au</td>\n",
       "      <td>metal</td>\n",
       "    </tr>\n",
       "    <tr>\n",
       "      <th>96</th>\n",
       "      <td>test.96483.au</td>\n",
       "      <td>reggae</td>\n",
       "    </tr>\n",
       "    <tr>\n",
       "      <th>97</th>\n",
       "      <td>test.97080.au</td>\n",
       "      <td>classical</td>\n",
       "    </tr>\n",
       "    <tr>\n",
       "      <th>98</th>\n",
       "      <td>test.97638.au</td>\n",
       "      <td>country</td>\n",
       "    </tr>\n",
       "    <tr>\n",
       "      <th>99</th>\n",
       "      <td>test.97760.au</td>\n",
       "      <td>metal</td>\n",
       "    </tr>\n",
       "  </tbody>\n",
       "</table>\n",
       "<p>100 rows × 2 columns</p>\n",
       "</div>"
      ],
      "text/plain": [
       "                0       class\n",
       "0   test.00596.au      hiphop\n",
       "1   test.02436.au      reggae\n",
       "2   test.02930.au       blues\n",
       "3   test.03364.au     country\n",
       "4   test.03550.au     country\n",
       "..            ...         ...\n",
       "95  test.95763.au       metal\n",
       "96  test.96483.au      reggae\n",
       "97  test.97080.au   classical\n",
       "98  test.97638.au     country\n",
       "99  test.97760.au       metal\n",
       "\n",
       "[100 rows x 2 columns]"
      ]
     },
     "execution_count": 21,
     "metadata": {},
     "output_type": "execute_result"
    }
   ],
   "source": [
    "test_tensor = torch.tensor(test_Features_norm, dtype = torch.float32)\n",
    "\n",
    "with torch.no_grad():\n",
    "    output = model(test_tensor)\n",
    "    torch.max(outputs, 1)\n",
    "    probabilities = torch.nn.functional.softmax(output, dim=1)\n",
    "    predicted_class = torch.argmax(probabilities, dim=1)\n",
    "\n",
    "genra = ['blues', ' classical', 'country', 'disco', 'hiphop', 'jazz', 'metal', 'pop', 'reggae', 'rock']\n",
    "kaggle = pd.read_csv('data/data/test/list_test.txt', header = None)\n",
    "for i in tqdm(range(100)):\n",
    "    kaggle.loc[i,'class'] = genra[predicted_class[i]]\n",
    "\n",
    "kaggle.to_csv('CSV/kaggle_mfcc50_delta_delta_MLP_1000.csv')\n",
    "kaggle"
   ]
  },
  {
   "cell_type": "code",
   "execution_count": 87,
   "metadata": {},
   "outputs": [
    {
     "data": {
      "text/plain": [
       "tensor([4, 8, 1, 2, 2, 5, 8, 2, 1, 6, 5, 1, 2, 4, 4, 2, 5, 9, 0, 1, 8, 3, 7, 7,\n",
       "        3, 9, 1, 2, 4, 4, 6, 8, 9, 1, 4, 3, 9, 3, 2, 1, 9, 6, 5, 4, 1, 4, 6, 1,\n",
       "        8, 8, 7, 6, 5, 1, 7, 1, 6, 6, 9, 7, 2, 7, 8, 0, 7, 3, 4, 2, 9, 4, 7, 3,\n",
       "        1, 5, 1, 8, 6, 8, 9, 4, 3, 2, 5, 6, 6, 3, 7, 1, 2, 5, 8, 3, 5, 2, 1, 6,\n",
       "        8, 1, 2, 3])"
      ]
     },
     "execution_count": 87,
     "metadata": {},
     "output_type": "execute_result"
    }
   ],
   "source": [
    "predicted_class"
   ]
  }
 ],
 "metadata": {
  "kernelspec": {
   "display_name": "Leo_pytch",
   "language": "python",
   "name": "python3"
  },
  "language_info": {
   "codemirror_mode": {
    "name": "ipython",
    "version": 3
   },
   "file_extension": ".py",
   "mimetype": "text/x-python",
   "name": "python",
   "nbconvert_exporter": "python",
   "pygments_lexer": "ipython3",
   "version": "3.10.14"
  }
 },
 "nbformat": 4,
 "nbformat_minor": 2
}
